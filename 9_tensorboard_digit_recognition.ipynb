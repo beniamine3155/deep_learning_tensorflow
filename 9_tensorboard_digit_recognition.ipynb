{
  "nbformat": 4,
  "nbformat_minor": 0,
  "metadata": {
    "colab": {
      "provenance": [],
      "toc_visible": true,
      "authorship_tag": "ABX9TyNB/qEr04HP99pQQ92OoM3z",
      "include_colab_link": true
    },
    "kernelspec": {
      "name": "python3",
      "display_name": "Python 3"
    },
    "language_info": {
      "name": "python"
    }
  },
  "cells": [
    {
      "cell_type": "markdown",
      "metadata": {
        "id": "view-in-github",
        "colab_type": "text"
      },
      "source": [
        "<a href=\"https://colab.research.google.com/github/beniamine3155/deep_learning_tensorflow/blob/main/9_tensorboard_digit_recognition.ipynb\" target=\"_parent\"><img src=\"https://colab.research.google.com/assets/colab-badge.svg\" alt=\"Open In Colab\"/></a>"
      ]
    },
    {
      "cell_type": "markdown",
      "source": [
        "# Tensorboard demo using handwritten digits classification"
      ],
      "metadata": {
        "id": "haYj_IUQ8LJH"
      }
    },
    {
      "cell_type": "code",
      "execution_count": 1,
      "metadata": {
        "id": "nzglHCZ88IRi"
      },
      "outputs": [],
      "source": [
        "import numpy as np\n",
        "import tensorflow as tf\n",
        "from tensorflow import keras\n",
        "import matplotlib.pyplot as plt"
      ]
    },
    {
      "cell_type": "code",
      "source": [
        "(X_train, y_train), (X_test, y_test) = keras.datasets.mnist.load_data()"
      ],
      "metadata": {
        "colab": {
          "base_uri": "https://localhost:8080/"
        },
        "id": "2ywDZ4cQ8sjz",
        "outputId": "74e4c10d-c414-48b2-a819-8d67eae55356"
      },
      "execution_count": 2,
      "outputs": [
        {
          "output_type": "stream",
          "name": "stdout",
          "text": [
            "Downloading data from https://storage.googleapis.com/tensorflow/tf-keras-datasets/mnist.npz\n",
            "\u001b[1m11490434/11490434\u001b[0m \u001b[32m━━━━━━━━━━━━━━━━━━━━\u001b[0m\u001b[37m\u001b[0m \u001b[1m0s\u001b[0m 0us/step\n"
          ]
        }
      ]
    },
    {
      "cell_type": "code",
      "source": [
        "len(X_train)"
      ],
      "metadata": {
        "colab": {
          "base_uri": "https://localhost:8080/"
        },
        "id": "mYjqHlIL88C5",
        "outputId": "3f49933b-b261-44f6-8340-d71e81c1e69e"
      },
      "execution_count": 3,
      "outputs": [
        {
          "output_type": "execute_result",
          "data": {
            "text/plain": [
              "60000"
            ]
          },
          "metadata": {},
          "execution_count": 3
        }
      ]
    },
    {
      "cell_type": "code",
      "source": [
        "len(X_test)"
      ],
      "metadata": {
        "colab": {
          "base_uri": "https://localhost:8080/"
        },
        "id": "Dj9O05qB9AKR",
        "outputId": "11ea0917-f9d3-4d03-8d62-a7d770a084f6"
      },
      "execution_count": 4,
      "outputs": [
        {
          "output_type": "execute_result",
          "data": {
            "text/plain": [
              "10000"
            ]
          },
          "metadata": {},
          "execution_count": 4
        }
      ]
    },
    {
      "cell_type": "code",
      "source": [
        "X_train[0].shape"
      ],
      "metadata": {
        "colab": {
          "base_uri": "https://localhost:8080/"
        },
        "id": "z9N8Yken9Bko",
        "outputId": "412f6c8e-111c-4980-9a70-d387f2e2ac28"
      },
      "execution_count": 5,
      "outputs": [
        {
          "output_type": "execute_result",
          "data": {
            "text/plain": [
              "(28, 28)"
            ]
          },
          "metadata": {},
          "execution_count": 5
        }
      ]
    },
    {
      "cell_type": "code",
      "source": [
        "plt.matshow(X_train[0])"
      ],
      "metadata": {
        "colab": {
          "base_uri": "https://localhost:8080/",
          "height": 455
        },
        "id": "FHj6jo0f9INy",
        "outputId": "bf1ae7f6-be3c-418c-c4a7-fde0f7108b7d"
      },
      "execution_count": 6,
      "outputs": [
        {
          "output_type": "execute_result",
          "data": {
            "text/plain": [
              "<matplotlib.image.AxesImage at 0x7962324e4e20>"
            ]
          },
          "metadata": {},
          "execution_count": 6
        },
        {
          "output_type": "display_data",
          "data": {
            "text/plain": [
              "<Figure size 480x480 with 1 Axes>"
            ],
            "image/png": "[encoded data removed]"
          },
          "metadata": {}
        }
      ]
    },
    {
      "cell_type": "code",
      "source": [
        "y_train[0]"
      ],
      "metadata": {
        "colab": {
          "base_uri": "https://localhost:8080/"
        },
        "id": "wGj1nsfj9Nlf",
        "outputId": "35957d2f-2186-461a-8305-52fa6bb50d87"
      },
      "execution_count": 7,
      "outputs": [
        {
          "output_type": "execute_result",
          "data": {
            "text/plain": [
              "5"
            ]
          },
          "metadata": {},
          "execution_count": 7
        }
      ]
    },
    {
      "cell_type": "code",
      "source": [
        "X_train = X_train / 255\n",
        "X_test = X_test / 255"
      ],
      "metadata": {
        "id": "oVrx-d9e9f1I"
      },
      "execution_count": 8,
      "outputs": []
    },
    {
      "cell_type": "code",
      "source": [
        "X_train_flattened = X_train.reshape(len(X_train), 28*28)\n",
        "X_test_flattened = X_test.reshape(len(X_test), 28*28)"
      ],
      "metadata": {
        "id": "ondCbH7v9iyS"
      },
      "execution_count": 9,
      "outputs": []
    },
    {
      "cell_type": "code",
      "source": [
        "X_train_flattened.shape"
      ],
      "metadata": {
        "colab": {
          "base_uri": "https://localhost:8080/"
        },
        "id": "P5mSCNgp9mnu",
        "outputId": "f863e4cb-5fee-47a0-cf32-ceed313c79d4"
      },
      "execution_count": 10,
      "outputs": [
        {
          "output_type": "execute_result",
          "data": {
            "text/plain": [
              "(60000, 784)"
            ]
          },
          "metadata": {},
          "execution_count": 10
        }
      ]
    },
    {
      "cell_type": "markdown",
      "source": [
        "## Using Flatten layer so that we don't have to call .reshape on input dataset"
      ],
      "metadata": {
        "id": "5k5vkENG9w8d"
      }
    },
    {
      "cell_type": "code",
      "source": [
        "model = keras.Sequential([\n",
        "    keras.layers.Flatten(input_shape=(28, 28)),\n",
        "    keras.layers.Dense(100, activation='relu'),\n",
        "    keras.layers.Dense(10, activation='sigmoid')\n",
        "])\n",
        "\n",
        "model.compile(\n",
        "    optimizer='adam',\n",
        "    loss='sparse_categorical_crossentropy',\n",
        "    metrics=['accuracy']\n",
        ")\n",
        "\n",
        "tb_callback = tf.keras.callbacks.TensorBoard(log_dir='logs/', histogram_freq=1)\n",
        "\n",
        "model.fit(X_train, y_train, epochs=5, callbacks=[tb_callback])"
      ],
      "metadata": {
        "colab": {
          "base_uri": "https://localhost:8080/"
        },
        "id": "F_VZ4Q5J9qh6",
        "outputId": "c75c13bb-0b4d-4b8a-9720-283a61500a03"
      },
      "execution_count": 13,
      "outputs": [
        {
          "output_type": "stream",
          "name": "stderr",
          "text": [
            "/usr/local/lib/python3.10/dist-packages/keras/src/layers/reshaping/flatten.py:37: UserWarning: Do not pass an `input_shape`/`input_dim` argument to a layer. When using Sequential models, prefer using an `Input(shape)` object as the first layer in the model instead.\n",
            "  super().__init__(**kwargs)\n"
          ]
        },
        {
          "output_type": "stream",
          "name": "stdout",
          "text": [
            "Epoch 1/5\n",
            "\u001b[1m1875/1875\u001b[0m \u001b[32m━━━━━━━━━━━━━━━━━━━━\u001b[0m\u001b[37m\u001b[0m \u001b[1m10s\u001b[0m 5ms/step - accuracy: 0.8717 - loss: 0.4525\n",
            "Epoch 2/5\n",
            "\u001b[1m1875/1875\u001b[0m \u001b[32m━━━━━━━━━━━━━━━━━━━━\u001b[0m\u001b[37m\u001b[0m \u001b[1m11s\u001b[0m 5ms/step - accuracy: 0.9609 - loss: 0.1353\n",
            "Epoch 3/5\n",
            "\u001b[1m1875/1875\u001b[0m \u001b[32m━━━━━━━━━━━━━━━━━━━━\u001b[0m\u001b[37m\u001b[0m \u001b[1m9s\u001b[0m 5ms/step - accuracy: 0.9739 - loss: 0.0866\n",
            "Epoch 4/5\n",
            "\u001b[1m1875/1875\u001b[0m \u001b[32m━━━━━━━━━━━━━━━━━━━━\u001b[0m\u001b[37m\u001b[0m \u001b[1m10s\u001b[0m 5ms/step - accuracy: 0.9813 - loss: 0.0642\n",
            "Epoch 5/5\n",
            "\u001b[1m1875/1875\u001b[0m \u001b[32m━━━━━━━━━━━━━━━━━━━━\u001b[0m\u001b[37m\u001b[0m \u001b[1m11s\u001b[0m 5ms/step - accuracy: 0.9856 - loss: 0.0477\n"
          ]
        },
        {
          "output_type": "execute_result",
          "data": {
            "text/plain": [
              "<keras.src.callbacks.history.History at 0x796231e8b0d0>"
            ]
          },
          "metadata": {},
          "execution_count": 13
        }
      ]
    },
    {
      "cell_type": "code",
      "source": [
        "model.get_weights()"
      ],
      "metadata": {
        "colab": {
          "base_uri": "https://localhost:8080/"
        },
        "id": "3Q64SPPT_FPL",
        "outputId": "b2637e96-38f5-466d-ba5a-079532b532da"
      },
      "execution_count": 14,
      "outputs": [
        {
          "output_type": "execute_result",
          "data": {
            "text/plain": [
              "[array([[-0.04102883, -0.06675452, -0.02652947, ...,  0.0268198 ,\n",
              "          0.06276202, -0.07777972],\n",
              "        [ 0.01878238,  0.05317415,  0.0057065 , ...,  0.07472722,\n",
              "         -0.07095771, -0.0602255 ],\n",
              "        [-0.07882269,  0.00045073,  0.03567994, ..., -0.08106984,\n",
              "         -0.04907715,  0.04403479],\n",
              "        ...,\n",
              "        [-0.07342538,  0.05909222,  0.07254526, ..., -0.07441761,\n",
              "          0.04129642, -0.00401179],\n",
              "        [-0.05668759, -0.02331167, -0.0038252 , ...,  0.07942636,\n",
              "          0.08164123,  0.07643472],\n",
              "        [ 0.0353515 ,  0.03573238,  0.07270995, ...,  0.06237558,\n",
              "          0.01630006, -0.01556658]], dtype=float32),\n",
              " array([ 0.16358265,  0.1637319 , -0.15276037,  0.14736612,  0.04447884,\n",
              "         0.00961991,  0.03440417, -0.03341104,  0.10550485,  0.10678655,\n",
              "         0.02775137, -0.00360409,  0.09291264,  0.03904651,  0.09650698,\n",
              "         0.2890946 ,  0.10073375, -0.13181917, -0.13717267,  0.02465424,\n",
              "        -0.11872061,  0.19998343,  0.09910021,  0.03360578,  0.0581657 ,\n",
              "         0.0438077 ,  0.06481144, -0.05641846,  0.20640126,  0.07312503,\n",
              "        -0.02923383, -0.0071357 , -0.02385201,  0.03588986, -0.0514134 ,\n",
              "         0.01129863,  0.07965245,  0.09270258, -0.00834301,  0.08320463,\n",
              "        -0.06567988, -0.19897513,  0.07988399, -0.05374885,  0.21783975,\n",
              "        -0.03955872, -0.01103266, -0.02055441,  0.21239696,  0.00739654,\n",
              "         0.08261798,  0.03869454, -0.12485968,  0.13176052,  0.00582711,\n",
              "        -0.05406928, -0.02866332,  0.00969635, -0.03548455,  0.07795596,\n",
              "         0.00079968,  0.15964596,  0.06636929, -0.06384738,  0.00285429,\n",
              "        -0.06038114,  0.11399353,  0.11446302, -0.04236941,  0.00147342,\n",
              "         0.09059065, -0.12951371, -0.00332585,  0.16012077, -0.07110512,\n",
              "        -0.01324749, -0.15041025,  0.18422207, -0.01317872, -0.05096921,\n",
              "         0.09090876, -0.03396675,  0.01297092, -0.04152269,  0.01366844,\n",
              "        -0.01260532, -0.13363288,  0.00187376,  0.06225671,  0.01617395,\n",
              "         0.03057829,  0.03896277,  0.00421059, -0.13453853,  0.07022195,\n",
              "         0.02001184,  0.07107498,  0.00737998,  0.04572625,  0.07084817],\n",
              "       dtype=float32),\n",
              " array([[-1.70350652e-02,  4.07588243e-01, -2.56081790e-01,\n",
              "         -4.15344983e-01,  1.61741212e-01,  4.87742871e-02,\n",
              "         -9.15298164e-01,  3.33314031e-01, -1.60596430e-01,\n",
              "         -1.19060604e-02],\n",
              "        [ 1.92727134e-01, -3.64700526e-01, -2.54952163e-01,\n",
              "         -6.13825321e-01,  2.94832766e-01, -1.52848819e-02,\n",
              "          2.01489761e-01,  1.16685383e-01, -5.10078728e-01,\n",
              "         -1.11439237e-02],\n",
              "        [ 2.11466640e-01, -6.26759708e-01, -2.84070283e-01,\n",
              "          5.79734407e-02, -2.42854372e-01, -1.23553798e-01,\n",
              "         -3.98594499e-01, -1.21799573e-01, -1.60938222e-02,\n",
              "          1.73563585e-01],\n",
              "        [-8.65074620e-02, -3.32051784e-01, -3.51582974e-01,\n",
              "         -3.56238514e-01,  1.25732481e-01,  2.66270071e-01,\n",
              "         -4.95813757e-01,  3.89180511e-01, -2.08198860e-01,\n",
              "         -7.20946342e-02],\n",
              "        [-1.91398263e-01,  3.07898939e-01, -6.50413260e-02,\n",
              "         -4.70247179e-01,  3.59171301e-01, -4.68776792e-01,\n",
              "         -3.49906683e-01,  1.52953848e-01, -4.87902671e-01,\n",
              "          4.71509367e-01],\n",
              "        [ 2.85577923e-01,  2.54000157e-01,  2.40345180e-01,\n",
              "         -2.06574708e-01, -2.62005925e-01,  7.32640829e-03,\n",
              "         -2.57646233e-01, -3.11126322e-01, -4.72150981e-01,\n",
              "          2.14396283e-01],\n",
              "        [-3.27046365e-01, -7.61860088e-02, -1.47350170e-02,\n",
              "          2.05836579e-01, -5.25914952e-02,  3.34179342e-01,\n",
              "          1.83574468e-01, -6.22026384e-01,  2.35956445e-01,\n",
              "         -1.74066648e-01],\n",
              "        [ 1.75368294e-01,  4.00674373e-01, -4.36472356e-01,\n",
              "          5.44440281e-03, -3.57146151e-02, -4.43036258e-01,\n",
              "          4.50409949e-01,  1.00789681e-01, -3.26783031e-01,\n",
              "         -1.07985713e-01],\n",
              "        [ 2.03873396e-01, -5.03826737e-01, -1.75612316e-01,\n",
              "         -4.86981943e-02,  1.92613348e-01,  7.12888166e-02,\n",
              "         -8.41327235e-02,  7.39304349e-02,  9.65717360e-02,\n",
              "          1.85581341e-01],\n",
              "        [ 8.16508606e-02, -4.94881004e-01,  1.10589169e-01,\n",
              "         -2.30180398e-02,  1.35001451e-01,  1.02570415e-01,\n",
              "          3.84806991e-01, -6.52875975e-02,  1.63904652e-01,\n",
              "         -7.11198986e-01],\n",
              "        [ 1.43621936e-01, -3.11841637e-01, -5.37070155e-01,\n",
              "          1.01433747e-01,  1.33085907e-01, -7.37119988e-02,\n",
              "          1.68637559e-01,  2.73869842e-01, -4.45096046e-01,\n",
              "         -9.84497294e-02],\n",
              "        [-1.61900949e-02,  4.64439750e-01,  1.82528973e-01,\n",
              "          1.49396926e-01,  3.97719264e-01, -3.26652708e-03,\n",
              "          2.82757550e-01, -1.93191282e-02, -1.37242123e-01,\n",
              "         -8.38766396e-01],\n",
              "        [ 1.03511736e-01, -6.44239634e-02, -3.58062059e-01,\n",
              "          1.66575655e-01, -5.35238266e-01,  1.99678242e-01,\n",
              "          2.45347396e-01,  5.02438605e-01,  2.51269583e-02,\n",
              "         -4.83013272e-01],\n",
              "        [ 4.72890049e-01,  2.33640924e-01,  2.68786043e-01,\n",
              "         -9.64580029e-02, -1.76435336e-01, -6.96913421e-01,\n",
              "          2.03500092e-01, -3.06977294e-02,  1.62008211e-01,\n",
              "          4.90839258e-02],\n",
              "        [-2.47723803e-01,  6.80781528e-02,  4.60622972e-03,\n",
              "          4.74360175e-02,  1.46483898e-01,  5.50532667e-03,\n",
              "          2.41359368e-01,  6.34870231e-02,  3.19689065e-01,\n",
              "         -5.21334767e-01],\n",
              "        [-1.53648227e-01, -4.42187458e-01,  2.50471741e-01,\n",
              "         -9.19061378e-02, -8.80647451e-02,  1.53039485e-01,\n",
              "         -6.73712313e-01,  3.93018365e-01, -4.95834619e-01,\n",
              "         -7.61302337e-02],\n",
              "        [-8.40562209e-02, -3.28940481e-01,  1.29503608e-01,\n",
              "          2.84511503e-02,  1.31647035e-01, -5.89819103e-02,\n",
              "         -5.31778522e-02,  1.33319065e-01,  1.39298722e-01,\n",
              "          6.15760982e-02],\n",
              "        [ 1.70134634e-01, -3.36561173e-01, -1.10785514e-01,\n",
              "          2.87549645e-01, -1.79967105e-01,  1.55992612e-01,\n",
              "          6.88641965e-02, -3.68679613e-01, -1.43670648e-01,\n",
              "         -4.42664176e-01],\n",
              "        [ 1.56607389e-01, -2.41048172e-01,  1.72059417e-01,\n",
              "          3.12424153e-01, -3.99964243e-01, -1.21185407e-01,\n",
              "         -3.02133828e-01,  1.78796902e-01,  1.46351337e-01,\n",
              "          1.65080294e-01],\n",
              "        [ 5.64685881e-01,  4.75911021e-01,  2.80347854e-01,\n",
              "         -2.26313800e-01, -1.10283317e-02, -3.73605549e-01,\n",
              "          2.67359763e-01,  1.24451675e-01, -7.88734794e-01,\n",
              "         -6.07713833e-02],\n",
              "        [ 2.48446286e-01, -3.50576997e-01,  1.40169457e-01,\n",
              "         -1.14665993e-01, -2.74661839e-01, -3.76747280e-01,\n",
              "          1.06374785e-01,  5.81431910e-02,  2.37300187e-01,\n",
              "          2.95058817e-01],\n",
              "        [-1.30241990e-01,  5.29077113e-01, -1.18275501e-01,\n",
              "         -3.33446503e-01,  7.19395638e-01,  4.32500467e-02,\n",
              "         -2.47740492e-01,  1.58636212e-01,  7.83308148e-02,\n",
              "         -6.18726373e-01],\n",
              "        [-3.38152409e-01, -1.34632871e-01, -2.56253272e-01,\n",
              "         -2.36298800e-01,  2.14980111e-01,  4.34236042e-02,\n",
              "         -9.17874277e-03,  1.56857893e-01,  2.74162143e-02,\n",
              "          9.38484371e-02],\n",
              "        [ 2.78973728e-01, -5.08967936e-01, -2.93585956e-01,\n",
              "         -4.54477340e-01,  2.82170534e-01, -6.85210153e-02,\n",
              "          1.63363799e-01, -2.15334475e-01,  2.17368290e-01,\n",
              "          3.55039425e-02],\n",
              "        [-4.14318264e-01,  1.77349374e-01,  1.96160540e-01,\n",
              "         -1.77040193e-02, -1.63404644e-01, -4.09584641e-01,\n",
              "          3.61476153e-01,  2.94856668e-01, -1.48187444e-01,\n",
              "         -4.85937521e-02],\n",
              "        [ 1.92551568e-01, -1.33879200e-01,  2.67118365e-01,\n",
              "         -1.23650573e-01, -4.02467996e-01,  8.24516341e-02,\n",
              "          2.30701119e-02, -4.51317430e-01,  9.08708125e-02,\n",
              "         -2.77242541e-01],\n",
              "        [-2.02968732e-01, -1.42000839e-01, -2.20746234e-01,\n",
              "          1.75107256e-01, -1.92924514e-01,  1.34597063e-01,\n",
              "          1.79863110e-01, -1.80177629e-01,  2.94916332e-01,\n",
              "         -1.86944768e-01],\n",
              "        [-6.22740865e-01,  4.50781845e-02,  9.86588672e-02,\n",
              "          8.72646868e-02,  3.74667794e-02, -4.71028872e-02,\n",
              "         -6.28844678e-01,  3.29854578e-01,  1.21575393e-01,\n",
              "         -3.53604376e-01],\n",
              "        [-2.47405380e-01,  2.72048295e-01,  1.43996909e-01,\n",
              "          4.64250222e-02,  3.32687758e-02,  1.63588896e-01,\n",
              "          2.25486353e-01,  3.23186368e-02,  2.49970600e-01,\n",
              "         -6.00860298e-01],\n",
              "        [-1.72436424e-02, -5.47548056e-01, -1.49791792e-01,\n",
              "          2.43051033e-02, -1.85932219e-01,  1.35746360e-01,\n",
              "         -4.41663355e-01,  4.67735715e-02, -2.81741340e-02,\n",
              "          1.16924815e-01],\n",
              "        [-3.94363254e-01,  2.62316108e-01, -3.37499440e-01,\n",
              "         -3.45024392e-02,  2.57485449e-01, -2.23946363e-01,\n",
              "          6.03863969e-02,  2.99829662e-01,  5.27746864e-02,\n",
              "          1.88532412e-01],\n",
              "        [-2.25253366e-02,  1.18826926e-01,  1.65770024e-01,\n",
              "          2.28607848e-01,  2.96540439e-01,  9.41701680e-02,\n",
              "         -4.22370166e-01,  7.72249326e-02,  2.22505197e-01,\n",
              "          2.03319967e-01],\n",
              "        [-3.07819307e-01, -3.24236095e-01,  1.30743951e-01,\n",
              "          1.84500590e-01, -4.44714099e-01,  4.78601158e-01,\n",
              "         -3.34581316e-01, -1.27125517e-01, -1.21661484e-01,\n",
              "         -1.66372195e-01],\n",
              "        [-2.43501812e-01, -6.32783949e-01, -8.19981471e-02,\n",
              "         -7.80050755e-02,  1.75560102e-01,  1.16114043e-01,\n",
              "          5.89199960e-02, -2.87509710e-02,  1.98105440e-01,\n",
              "          1.96786076e-01],\n",
              "        [ 2.06490513e-02, -3.67046475e-01,  1.73573136e-01,\n",
              "          7.21503720e-02, -1.37222302e+00,  2.35929489e-01,\n",
              "         -1.66939035e-01,  2.65890360e-01, -9.53718200e-02,\n",
              "         -2.01801613e-01],\n",
              "        [ 5.09919524e-02, -5.73221266e-01,  2.12402076e-01,\n",
              "         -2.03352168e-01,  2.88067125e-02, -3.97315770e-01,\n",
              "          1.67540479e-02,  8.25402141e-02,  3.01763147e-01,\n",
              "          1.99955538e-01],\n",
              "        [-8.66057217e-01, -3.25544290e-02,  2.02920586e-01,\n",
              "         -1.65089861e-01,  3.21982652e-01,  1.67102948e-01,\n",
              "         -4.70506877e-01, -3.82940799e-01,  1.80496529e-01,\n",
              "          1.62950590e-01],\n",
              "        [ 3.24877590e-01, -1.21845603e-01,  1.80937052e-02,\n",
              "         -3.75423610e-01, -1.31778881e-01, -1.72314316e-01,\n",
              "          8.97070542e-02,  4.27303612e-01,  2.34959424e-01,\n",
              "         -5.24747849e-01],\n",
              "        [ 1.97398797e-01,  1.46552445e-02, -2.39062682e-01,\n",
              "         -4.54791158e-01,  2.61622310e-01, -6.78382933e-01,\n",
              "         -2.68093377e-01, -4.46980298e-02, -4.80104327e-01,\n",
              "          1.94703117e-01],\n",
              "        [-6.35820210e-01,  1.69765219e-01, -4.95529100e-02,\n",
              "         -4.11773652e-01, -1.85768142e-01,  6.40864670e-02,\n",
              "         -5.60634136e-02, -4.31471497e-01,  5.14438711e-02,\n",
              "          8.04530606e-02],\n",
              "        [ 2.75654972e-01, -4.06293452e-01,  2.51498193e-01,\n",
              "         -6.71490878e-02,  2.54148364e-01, -1.71241894e-01,\n",
              "          2.63156623e-01, -4.78762686e-01, -1.35714710e-01,\n",
              "          1.31877974e-01],\n",
              "        [ 2.04359442e-01,  9.28784348e-03,  1.97483301e-01,\n",
              "          2.73126185e-01, -4.35776412e-01, -1.03247881e-01,\n",
              "         -6.33997284e-03, -2.69751012e-01,  2.07799703e-01,\n",
              "          6.78876117e-02],\n",
              "        [-4.92114484e-01, -4.30186033e-01, -2.83939898e-01,\n",
              "         -3.97857577e-01, -3.49182129e-01,  5.14015198e-01,\n",
              "          3.79707158e-01,  2.66263992e-01, -2.35489592e-01,\n",
              "         -3.29591036e-01],\n",
              "        [ 1.76376566e-01, -1.84954658e-01, -4.12598513e-02,\n",
              "         -3.97118255e-02,  8.20738897e-02, -1.11682124e-01,\n",
              "          1.52136581e-02, -2.28687599e-01,  2.60141707e-04,\n",
              "         -1.56478405e-01],\n",
              "        [ 1.27326444e-01, -2.37328753e-01,  2.21570700e-01,\n",
              "         -4.48419183e-01,  1.01969987e-01,  1.05733193e-01,\n",
              "          1.85407355e-01,  1.20568208e-01,  1.49385631e-02,\n",
              "          1.00748055e-01],\n",
              "        [ 5.50789610e-02, -6.90997362e-01,  3.28864977e-02,\n",
              "          7.28929415e-02, -4.62967336e-01,  3.12706316e-03,\n",
              "          1.57151610e-01,  1.72516972e-01, -2.61184990e-01,\n",
              "          2.65915483e-01],\n",
              "        [-1.76110968e-01,  1.90559983e-01,  4.11776602e-01,\n",
              "          2.26037517e-01,  2.21239075e-01, -4.10173833e-01,\n",
              "         -4.01029475e-02,  1.48065835e-01, -3.01504999e-01,\n",
              "         -6.00703597e-01],\n",
              "        [-5.71012139e-01, -1.27532348e-01, -1.75679669e-01,\n",
              "          1.97040915e-01,  9.25048590e-02,  1.81689799e-01,\n",
              "          1.93050191e-01, -6.89478040e-01,  2.36564979e-01,\n",
              "          1.54167309e-01],\n",
              "        [ 1.17643684e-01, -4.35888380e-01,  6.34814918e-01,\n",
              "         -3.67748737e-01, -1.28281536e-02,  2.84094810e-02,\n",
              "          3.34822224e-03, -1.44900307e-01, -4.92543936e-01,\n",
              "         -6.14751279e-01],\n",
              "        [ 1.55351415e-01,  1.33327127e-01, -5.06497860e-01,\n",
              "          1.78832620e-01, -7.80810177e-01,  2.48589158e-01,\n",
              "          1.71667226e-02, -1.00493900e-01,  2.75471121e-01,\n",
              "          2.49629125e-01],\n",
              "        [-7.42490515e-02, -1.90341309e-01, -3.85345787e-01,\n",
              "         -1.15615621e-01,  1.10587247e-01, -2.14972109e-01,\n",
              "         -5.13671160e-01,  2.01899737e-01, -1.70101058e-02,\n",
              "          1.28192350e-01],\n",
              "        [-4.03053075e-01, -5.62606394e-01,  1.52764037e-01,\n",
              "          3.39848131e-01,  2.07614154e-01,  1.21737987e-01,\n",
              "          1.53111696e-01, -5.26835382e-01, -1.65776461e-01,\n",
              "          4.21859056e-01],\n",
              "        [ 3.98649983e-02,  2.07170218e-01,  6.39696568e-02,\n",
              "          1.44389853e-01, -4.58763778e-01, -1.74570322e-01,\n",
              "         -3.99065316e-01,  1.25702232e-01,  2.10759640e-02,\n",
              "         -3.63438316e-02],\n",
              "        [-3.15608352e-01,  2.50900149e-01,  9.54117402e-02,\n",
              "         -1.78443313e-01,  2.10718527e-01, -3.10455561e-01,\n",
              "          5.30305132e-02, -2.31703877e-01, -5.12565998e-03,\n",
              "          3.18375602e-03],\n",
              "        [ 9.52905267e-02, -1.16672829e-01, -1.72506329e-02,\n",
              "          1.87707528e-01,  1.50618955e-01,  3.10207810e-02,\n",
              "         -2.87291735e-01, -2.63601933e-02, -1.88572779e-02,\n",
              "         -2.41680026e-01],\n",
              "        [ 1.96881801e-01,  9.34653655e-02,  2.49944434e-01,\n",
              "          2.31827050e-01, -1.51585817e-01, -1.91430837e-01,\n",
              "          1.53341293e-01,  4.26672965e-01,  1.04160020e-02,\n",
              "         -9.53917503e-01],\n",
              "        [-2.19535649e-01, -1.75123423e-01, -1.75842233e-02,\n",
              "          1.02596700e-01,  7.85235688e-02, -4.31679301e-02,\n",
              "          6.33480325e-02, -1.71572164e-01,  1.70397595e-01,\n",
              "          1.16871990e-01],\n",
              "        [-1.24525413e-01,  2.93729991e-01, -2.29609832e-02,\n",
              "          5.46263814e-01, -5.16415775e-01, -2.08429229e-02,\n",
              "         -6.16903782e-01,  1.89558089e-01, -4.84426886e-01,\n",
              "          7.43933544e-02],\n",
              "        [-5.34684658e-01, -1.68253914e-01, -6.12649024e-01,\n",
              "          3.52679014e-01, -2.18920130e-02,  2.32322812e-01,\n",
              "         -9.43626285e-01, -4.67037112e-01, -6.45415127e-01,\n",
              "          1.81759164e-01],\n",
              "        [ 1.04270294e-01,  2.42819980e-01, -1.01566888e-01,\n",
              "         -6.42784834e-01,  1.01501763e-01,  2.88152508e-02,\n",
              "          2.35646907e-02, -1.88316092e-01,  6.52575642e-02,\n",
              "         -3.85200838e-03],\n",
              "        [ 1.65859878e-01,  5.83311357e-03,  1.39340922e-01,\n",
              "          1.42182633e-01, -2.54047960e-01, -6.11988723e-01,\n",
              "          1.93621263e-01,  1.66505218e-01, -1.72496393e-01,\n",
              "         -9.58996639e-02],\n",
              "        [-3.57705325e-01,  3.16123307e-01, -1.39209151e-01,\n",
              "         -4.46696013e-01,  3.34561944e-01,  1.13638369e-02,\n",
              "         -2.11684227e-01,  3.92383605e-01, -4.11209613e-01,\n",
              "          8.14491436e-02],\n",
              "        [ 2.84286827e-01, -4.19830412e-01, -1.51882932e-01,\n",
              "         -2.61007309e-01,  2.08806157e-01,  2.10985467e-01,\n",
              "         -1.19485319e-01, -3.16185564e-01,  2.02305228e-01,\n",
              "          2.34752372e-01],\n",
              "        [ 1.10498667e-01,  2.53060579e-01,  2.09862977e-01,\n",
              "         -4.67031486e-02, -1.29043892e-01, -5.89761019e-01,\n",
              "         -3.02077353e-01, -1.21761583e-01,  1.98071033e-01,\n",
              "          1.98287934e-01],\n",
              "        [ 1.94425181e-01,  7.84179952e-04,  3.54586095e-01,\n",
              "          1.12437725e-01,  1.42503291e-01, -8.09491277e-01,\n",
              "         -4.84619021e-01,  3.27469409e-01, -2.16593519e-01,\n",
              "         -5.30483015e-02],\n",
              "        [-1.55439349e-02,  1.80300400e-01,  3.25817615e-01,\n",
              "          1.80009454e-01, -8.50408554e-01,  2.93198943e-01,\n",
              "         -7.39906788e-01,  1.96455456e-02, -2.91242480e-01,\n",
              "          7.34968409e-02],\n",
              "        [-1.84853643e-01,  1.93991438e-02, -1.78734183e-01,\n",
              "         -6.82621777e-01, -1.15924768e-01,  1.02789037e-01,\n",
              "          3.85789871e-01,  7.30147958e-02,  2.93216676e-01,\n",
              "          4.10760373e-01],\n",
              "        [ 1.28173813e-01,  5.08843839e-01,  3.90356481e-01,\n",
              "         -4.07958597e-01, -1.85530428e-02,  2.01212972e-01,\n",
              "         -3.93919289e-01, -2.37760991e-01, -3.07423919e-01,\n",
              "          7.40661770e-02],\n",
              "        [-2.08444819e-01,  2.29464799e-01,  1.74541950e-01,\n",
              "          2.11559489e-01,  1.67894941e-02,  2.03543216e-01,\n",
              "         -5.46341956e-01, -4.87335622e-01,  3.43278348e-01,\n",
              "          2.32805163e-01],\n",
              "        [-1.98354736e-01, -2.38693103e-01, -1.57822937e-01,\n",
              "          5.82563169e-02, -3.72696877e-01, -5.01694344e-02,\n",
              "          4.60063726e-01,  9.74160209e-02, -5.65319359e-01,\n",
              "          2.31350392e-01],\n",
              "        [ 1.82615872e-02, -8.05593729e-02, -7.91878402e-01,\n",
              "          1.76069304e-01, -1.96444113e-02,  4.43417370e-01,\n",
              "          2.72837043e-01, -4.30728495e-01, -2.37028554e-01,\n",
              "         -8.56064167e-03],\n",
              "        [-1.50289368e-02,  9.25649703e-02,  2.34860078e-01,\n",
              "          1.71290755e-01, -5.24915278e-01, -4.63392228e-01,\n",
              "         -4.73979741e-01,  6.91720396e-02,  1.59565434e-01,\n",
              "          1.76146194e-01],\n",
              "        [-1.62861824e-01, -1.17538713e-01,  1.37501523e-01,\n",
              "          2.99895465e-01,  1.44755006e-01, -7.05781102e-01,\n",
              "         -7.23277479e-02,  9.38500538e-02,  1.78134605e-01,\n",
              "          1.90156460e-01],\n",
              "        [-5.55548817e-02, -1.98037714e-01, -2.36410135e-03,\n",
              "         -3.00372273e-01,  1.64791614e-01,  8.28001425e-02,\n",
              "         -7.35104084e-02, -2.67944306e-01, -2.02548206e-01,\n",
              "          1.89864784e-01],\n",
              "        [-2.63625503e-01, -5.16874909e-01, -3.14220905e-01,\n",
              "         -3.31023335e-01,  1.17193907e-03,  3.03543061e-01,\n",
              "          1.61811575e-01, -4.45785344e-01,  1.95958212e-01,\n",
              "          3.88349295e-02],\n",
              "        [-1.26253471e-01,  5.80054045e-01, -3.06928456e-01,\n",
              "          1.56660065e-01, -3.88298631e-01,  2.12903649e-01,\n",
              "          1.28231309e-02,  3.68795782e-01, -2.71346688e-01,\n",
              "         -1.08737350e-02],\n",
              "        [ 7.97087476e-02, -2.62107551e-01,  1.48716822e-01,\n",
              "          1.17335446e-01, -3.75124782e-01,  3.28303650e-02,\n",
              "          9.64433178e-02, -1.18582748e-01, -1.39767766e-01,\n",
              "          4.86737937e-02],\n",
              "        [-4.67680722e-01,  2.28626847e-01,  4.12497699e-01,\n",
              "         -2.62791365e-01, -3.22199434e-01,  2.34997392e-01,\n",
              "          3.29924792e-01, -7.64331222e-02, -4.34020877e-01,\n",
              "         -1.98453754e-01],\n",
              "        [ 3.49722445e-01, -1.82517439e-01,  4.17694449e-02,\n",
              "         -2.45144054e-01, -5.81863701e-01,  3.80261990e-05,\n",
              "          2.25619525e-01, -1.58399522e-01, -8.45773593e-02,\n",
              "         -2.72559941e-01],\n",
              "        [-7.29706138e-02, -1.06691092e-01, -1.43858463e-01,\n",
              "          8.13563615e-02, -5.48812807e-01,  7.59809688e-02,\n",
              "          2.43868977e-01, -1.69569939e-01,  2.29211956e-01,\n",
              "         -2.03534991e-01],\n",
              "        [ 1.18711747e-01,  7.09615409e-01, -3.97440404e-01,\n",
              "         -6.39938295e-01, -2.28459612e-02,  1.31179348e-01,\n",
              "         -4.56239879e-01, -5.88860437e-02, -1.81526318e-01,\n",
              "         -1.17673576e-01],\n",
              "        [-2.62825549e-01,  2.27262273e-01, -5.21462500e-01,\n",
              "          2.06342489e-01, -8.96724090e-02,  3.30907583e-01,\n",
              "         -4.73654896e-01, -2.40777418e-01, -6.57256126e-01,\n",
              "          1.63620114e-01],\n",
              "        [-8.96677822e-02,  1.04611307e-01, -1.74542904e-01,\n",
              "         -1.05007859e-02, -1.86562821e-01,  8.25000927e-03,\n",
              "         -2.98487931e-01, -7.32983798e-02,  1.12044998e-01,\n",
              "          5.31874001e-02],\n",
              "        [-4.99215066e-01, -1.97799623e-01,  1.46368727e-01,\n",
              "          5.98134458e-01, -3.20844306e-03, -5.17540574e-01,\n",
              "         -1.16742589e-01, -2.49607533e-01, -1.70069501e-01,\n",
              "         -3.22171062e-01],\n",
              "        [-6.66362196e-02,  1.00943543e-01, -4.44111407e-01,\n",
              "         -1.11103050e-01,  4.48996946e-02,  2.37099528e-01,\n",
              "          3.28245431e-01,  7.83463642e-02, -3.98307264e-01,\n",
              "          8.71208012e-02],\n",
              "        [-3.34978789e-01,  1.01327352e-01,  4.72363532e-01,\n",
              "          1.31773144e-01, -5.86968720e-01,  1.58925563e-01,\n",
              "         -4.38721776e-02,  1.99232012e-01,  2.01151446e-01,\n",
              "         -7.80831814e-01],\n",
              "        [-6.79178298e-01, -4.83942091e-01, -9.79298592e-01,\n",
              "          6.41417980e-01, -2.62202621e-01,  3.91037948e-02,\n",
              "         -5.82755506e-01,  3.01521849e-02, -4.15063798e-01,\n",
              "          3.91305834e-01],\n",
              "        [-1.08299367e-01,  9.66771990e-02, -2.10667312e-01,\n",
              "         -1.11241728e-01,  2.49998242e-01, -3.91050100e-01,\n",
              "          1.44216985e-01,  1.44292181e-02, -2.65149415e-01,\n",
              "          1.87281743e-01],\n",
              "        [ 2.12930128e-01, -1.84105262e-01,  1.86754614e-02,\n",
              "         -7.00086206e-02, -7.26422155e-03,  1.59632593e-01,\n",
              "          2.63161033e-01, -4.20932770e-01,  2.01286912e-01,\n",
              "         -2.89462298e-01],\n",
              "        [-2.51381755e-01,  2.57413656e-01,  3.36540401e-01,\n",
              "         -1.69366255e-01, -6.69287592e-02,  4.81611043e-01,\n",
              "         -1.07505366e-01,  4.82463717e-01, -5.03822029e-01,\n",
              "         -4.09084499e-01],\n",
              "        [-4.64952976e-01,  2.75883496e-01,  1.46833718e-01,\n",
              "          2.07806408e-01,  5.82216144e-01,  7.56743625e-02,\n",
              "         -2.27301773e-02,  2.81714082e-01, -1.59251988e-01,\n",
              "         -8.27140629e-01],\n",
              "        [ 5.55250421e-02, -2.35056117e-01, -7.80146569e-02,\n",
              "          2.28888299e-02,  1.96806461e-01, -1.40352756e-01,\n",
              "         -2.57611577e-03, -2.03925893e-01,  1.51089013e-01,\n",
              "          2.34406922e-04],\n",
              "        [ 5.50967688e-03, -2.84469038e-01, -1.84214681e-01,\n",
              "         -1.36636272e-01, -9.34470817e-02, -6.84587583e-02,\n",
              "         -1.84056729e-01, -3.39289159e-02,  2.06278324e-01,\n",
              "          1.60189554e-01],\n",
              "        [-1.34544984e-01,  3.06774616e-01, -5.53319573e-01,\n",
              "          2.31368005e-01,  1.64189443e-01,  2.78602332e-01,\n",
              "          3.31428111e-01,  9.36430842e-02, -3.38714540e-01,\n",
              "          7.96514004e-02],\n",
              "        [-3.65502000e-01,  8.45901072e-02,  3.53932269e-02,\n",
              "         -5.88108525e-02,  1.69874765e-02, -3.27266842e-01,\n",
              "         -1.94907963e-01,  5.04704006e-02,  1.58728778e-01,\n",
              "         -3.41169566e-01],\n",
              "        [-3.74878198e-01, -1.71500087e-01, -3.73491377e-01,\n",
              "          4.90823001e-01, -1.42003253e-01,  5.49424827e-01,\n",
              "         -2.46335864e-02, -7.23246098e-01, -6.96697459e-02,\n",
              "         -7.11462870e-02],\n",
              "        [-3.72259200e-01,  4.04998176e-02, -3.56755406e-01,\n",
              "         -7.75462329e-01, -8.30464959e-01,  5.45938194e-01,\n",
              "          4.56946522e-01,  1.89423218e-01,  2.26043388e-01,\n",
              "         -2.34535690e-02],\n",
              "        [-1.18617639e-01,  7.93919712e-02,  2.06888825e-01,\n",
              "          1.59852594e-01, -2.95871317e-01, -3.57653871e-02,\n",
              "          1.82037011e-01, -1.61773473e-01,  1.33092254e-01,\n",
              "         -2.70113200e-01],\n",
              "        [-4.74898010e-01, -3.47679764e-01, -5.03891446e-02,\n",
              "          1.24304809e-01,  2.82297730e-01, -2.09615529e-01,\n",
              "         -4.04844522e-01,  1.51608899e-01, -6.94106340e-01,\n",
              "          1.57453179e-01],\n",
              "        [-4.87716764e-01,  7.86990374e-02,  1.54641241e-01,\n",
              "          4.17229027e-01,  1.05057880e-01,  6.56256452e-02,\n",
              "         -5.87089419e-01,  1.85969636e-01, -4.76061702e-01,\n",
              "          1.87887758e-01]], dtype=float32),\n",
              " array([-0.13358091, -0.03390193,  0.06173289, -0.1443107 ,  0.14411636,\n",
              "         0.05647942, -0.05605719,  0.01709142,  0.12478404, -0.07549904],\n",
              "       dtype=float32)]"
            ]
          },
          "metadata": {},
          "execution_count": 14
        }
      ]
    },
    {
      "cell_type": "code",
      "source": [],
      "metadata": {
        "id": "Ufkttr_6_jyR"
      },
      "execution_count": null,
      "outputs": []
    }
  ]
}